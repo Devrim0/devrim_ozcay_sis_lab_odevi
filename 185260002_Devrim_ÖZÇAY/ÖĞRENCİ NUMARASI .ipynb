{
 "cells": [
  {
   "cell_type": "code",
   "execution_count": 114,
   "id": "7ad8ac01",
   "metadata": {},
   "outputs": [],
   "source": [
    "import pandas as pd\n",
    "import numpy as np\n",
    "import matplotlib.pyplot as plt"
   ]
  },
  {
   "cell_type": "code",
   "execution_count": 115,
   "id": "2595c696",
   "metadata": {},
   "outputs": [
    {
     "data": {
      "text/html": [
       "<div>\n",
       "<style scoped>\n",
       "    .dataframe tbody tr th:only-of-type {\n",
       "        vertical-align: middle;\n",
       "    }\n",
       "\n",
       "    .dataframe tbody tr th {\n",
       "        vertical-align: top;\n",
       "    }\n",
       "\n",
       "    .dataframe thead th {\n",
       "        text-align: right;\n",
       "    }\n",
       "</style>\n",
       "<table border=\"1\" class=\"dataframe\">\n",
       "  <thead>\n",
       "    <tr style=\"text-align: right;\">\n",
       "      <th></th>\n",
       "      <th>Unnamed: 0</th>\n",
       "      <th>ozellik-1</th>\n",
       "      <th>ozellik-2</th>\n",
       "      <th>ozellik-3</th>\n",
       "      <th>ozellik-4</th>\n",
       "      <th>ozellik-5</th>\n",
       "      <th>ozellik-6</th>\n",
       "      <th>Numara</th>\n",
       "    </tr>\n",
       "  </thead>\n",
       "  <tbody>\n",
       "    <tr>\n",
       "      <th>0</th>\n",
       "      <td>0</td>\n",
       "      <td>-7.435244</td>\n",
       "      <td>-4.174864</td>\n",
       "      <td>8.681144</td>\n",
       "      <td>0.668920</td>\n",
       "      <td>-6.065572</td>\n",
       "      <td>-2.184625</td>\n",
       "      <td>10</td>\n",
       "    </tr>\n",
       "    <tr>\n",
       "      <th>1</th>\n",
       "      <td>1</td>\n",
       "      <td>8.391229</td>\n",
       "      <td>-9.339414</td>\n",
       "      <td>-0.708129</td>\n",
       "      <td>1.740147</td>\n",
       "      <td>-3.413167</td>\n",
       "      <td>-7.336959</td>\n",
       "      <td>10</td>\n",
       "    </tr>\n",
       "    <tr>\n",
       "      <th>2</th>\n",
       "      <td>2</td>\n",
       "      <td>-5.634696</td>\n",
       "      <td>-3.565606</td>\n",
       "      <td>9.664936</td>\n",
       "      <td>2.732507</td>\n",
       "      <td>-6.960467</td>\n",
       "      <td>-0.873356</td>\n",
       "      <td>10</td>\n",
       "    </tr>\n",
       "    <tr>\n",
       "      <th>3</th>\n",
       "      <td>3</td>\n",
       "      <td>-6.330259</td>\n",
       "      <td>-3.825660</td>\n",
       "      <td>9.589396</td>\n",
       "      <td>0.917399</td>\n",
       "      <td>-6.954611</td>\n",
       "      <td>-1.565933</td>\n",
       "      <td>10</td>\n",
       "    </tr>\n",
       "    <tr>\n",
       "      <th>4</th>\n",
       "      <td>4</td>\n",
       "      <td>-5.836894</td>\n",
       "      <td>-4.262500</td>\n",
       "      <td>11.135290</td>\n",
       "      <td>0.627801</td>\n",
       "      <td>-6.747799</td>\n",
       "      <td>-1.749781</td>\n",
       "      <td>10</td>\n",
       "    </tr>\n",
       "    <tr>\n",
       "      <th>...</th>\n",
       "      <td>...</td>\n",
       "      <td>...</td>\n",
       "      <td>...</td>\n",
       "      <td>...</td>\n",
       "      <td>...</td>\n",
       "      <td>...</td>\n",
       "      <td>...</td>\n",
       "      <td>...</td>\n",
       "    </tr>\n",
       "    <tr>\n",
       "      <th>93</th>\n",
       "      <td>93</td>\n",
       "      <td>8.503909</td>\n",
       "      <td>-9.336053</td>\n",
       "      <td>-0.875796</td>\n",
       "      <td>1.850976</td>\n",
       "      <td>-4.714561</td>\n",
       "      <td>-5.387236</td>\n",
       "      <td>1</td>\n",
       "    </tr>\n",
       "    <tr>\n",
       "      <th>94</th>\n",
       "      <td>94</td>\n",
       "      <td>-7.164674</td>\n",
       "      <td>-4.588734</td>\n",
       "      <td>10.326705</td>\n",
       "      <td>1.055966</td>\n",
       "      <td>-6.221009</td>\n",
       "      <td>-3.411520</td>\n",
       "      <td>0</td>\n",
       "    </tr>\n",
       "    <tr>\n",
       "      <th>95</th>\n",
       "      <td>95</td>\n",
       "      <td>8.095334</td>\n",
       "      <td>-9.621382</td>\n",
       "      <td>0.935680</td>\n",
       "      <td>3.334007</td>\n",
       "      <td>-4.308569</td>\n",
       "      <td>-7.683909</td>\n",
       "      <td>1</td>\n",
       "    </tr>\n",
       "    <tr>\n",
       "      <th>96</th>\n",
       "      <td>96</td>\n",
       "      <td>-6.126117</td>\n",
       "      <td>-3.855354</td>\n",
       "      <td>10.318827</td>\n",
       "      <td>2.963437</td>\n",
       "      <td>-6.576240</td>\n",
       "      <td>-2.539617</td>\n",
       "      <td>0</td>\n",
       "    </tr>\n",
       "    <tr>\n",
       "      <th>97</th>\n",
       "      <td>97</td>\n",
       "      <td>9.266377</td>\n",
       "      <td>-10.534706</td>\n",
       "      <td>-1.479789</td>\n",
       "      <td>0.580826</td>\n",
       "      <td>-4.149473</td>\n",
       "      <td>-7.690643</td>\n",
       "      <td>1</td>\n",
       "    </tr>\n",
       "  </tbody>\n",
       "</table>\n",
       "<p>98 rows × 8 columns</p>\n",
       "</div>"
      ],
      "text/plain": [
       "    Unnamed: 0  ozellik-1  ozellik-2  ozellik-3  ozellik-4  ozellik-5  \\\n",
       "0            0  -7.435244  -4.174864   8.681144   0.668920  -6.065572   \n",
       "1            1   8.391229  -9.339414  -0.708129   1.740147  -3.413167   \n",
       "2            2  -5.634696  -3.565606   9.664936   2.732507  -6.960467   \n",
       "3            3  -6.330259  -3.825660   9.589396   0.917399  -6.954611   \n",
       "4            4  -5.836894  -4.262500  11.135290   0.627801  -6.747799   \n",
       "..         ...        ...        ...        ...        ...        ...   \n",
       "93          93   8.503909  -9.336053  -0.875796   1.850976  -4.714561   \n",
       "94          94  -7.164674  -4.588734  10.326705   1.055966  -6.221009   \n",
       "95          95   8.095334  -9.621382   0.935680   3.334007  -4.308569   \n",
       "96          96  -6.126117  -3.855354  10.318827   2.963437  -6.576240   \n",
       "97          97   9.266377 -10.534706  -1.479789   0.580826  -4.149473   \n",
       "\n",
       "    ozellik-6  Numara  \n",
       "0   -2.184625      10  \n",
       "1   -7.336959      10  \n",
       "2   -0.873356      10  \n",
       "3   -1.565933      10  \n",
       "4   -1.749781      10  \n",
       "..        ...     ...  \n",
       "93  -5.387236       1  \n",
       "94  -3.411520       0  \n",
       "95  -7.683909       1  \n",
       "96  -2.539617       0  \n",
       "97  -7.690643       1  \n",
       "\n",
       "[98 rows x 8 columns]"
      ]
     },
     "execution_count": 115,
     "metadata": {},
     "output_type": "execute_result"
    }
   ],
   "source": [
    "df = pd.read_csv(\"C:\\\\Users\\\\Devrim\\\\Desktop\\\\NO.csv\")\n",
    "\n",
    "\n",
    "# Ben burda data setinin çıkış kısmını Numara diye değiştirdim ve ilk 40 değerlerini ilk 20 10 ve kalan 20 tane 30 nolu olacak \n",
    "#Ve bunu tahmin ettirmeye çalışaçağım.\n",
    "#özellik 2 ve özellik 4 kullanacağım\n",
    "df"
   ]
  },
  {
   "cell_type": "code",
   "execution_count": 116,
   "id": "2d6a1a3e",
   "metadata": {},
   "outputs": [
    {
     "name": "stdout",
     "output_type": "stream",
     "text": [
      "(40,)\n",
      "**********************************************************************\n"
     ]
    },
    {
     "data": {
      "text/plain": [
       "array([10, 10, 10, 10, 10, 10, 10, 10, 10, 10, 10, 10, 10, 10, 10, 10, 10,\n",
       "       10, 10, 10, 30, 30, 30, 30, 30, 30, 30, 30, 30, 30, 30, 30, 30, 30,\n",
       "       30, 30, 30, 30, 30, 30], dtype=int64)"
      ]
     },
     "execution_count": 116,
     "metadata": {},
     "output_type": "execute_result"
    }
   ],
   "source": [
    "\n",
    "cikis = df.iloc[0:40,7].values\n",
    "print(cikis.shape)\n",
    "print(\"**********************************************************************\")\n",
    "cikis"
   ]
  },
  {
   "cell_type": "code",
   "execution_count": 131,
   "id": "6acecbbd",
   "metadata": {},
   "outputs": [
    {
     "data": {
      "text/plain": [
       "array([-1, -1, -1, -1, -1, -1, -1, -1, -1, -1, -1, -1, -1, -1, -1, -1, -1,\n",
       "       -1, -1, -1,  1,  1,  1,  1,  1,  1,  1,  1,  1,  1,  1,  1,  1,  1,\n",
       "        1,  1,  1,  1,  1,  1])"
      ]
     },
     "execution_count": 131,
     "metadata": {},
     "output_type": "execute_result"
    }
   ],
   "source": [
    "\n",
    "cikis1 = np.where(df.Numara[:40]==10,-1,1)  #Numaranın ilk  40 değerini aldım ve eğer 10 ise -1  30 ise 1 yazdırsın dedim\n",
    "giris = df.iloc[0:40, [1,3]].values\n",
    "cikis1"
   ]
  },
  {
   "cell_type": "code",
   "execution_count": 132,
   "id": "06c5fd91",
   "metadata": {},
   "outputs": [
    {
     "data": {
      "text/plain": [
       "array([[-7.43524377,  8.68114435],\n",
       "       [ 8.39122887, -0.70812855],\n",
       "       [-5.63469574,  9.66493635],\n",
       "       [-6.330259  ,  9.58939558],\n",
       "       [-5.8368937 , 11.13529022],\n",
       "       [-6.72197659, 11.9643459 ],\n",
       "       [ 7.548126  , -2.2496755 ],\n",
       "       [10.52098407, -2.4496623 ],\n",
       "       [-7.61074121, 10.34408255],\n",
       "       [ 8.37709095, -2.06797765],\n",
       "       [-7.50887341,  9.9411184 ],\n",
       "       [-6.4717049 ,  9.14907423],\n",
       "       [-8.01097964,  9.81097827],\n",
       "       [-7.06373055,  9.83082994],\n",
       "       [-7.52849983, 10.96420326],\n",
       "       [ 9.66840596, -0.21167206],\n",
       "       [-7.49654802,  9.5318149 ],\n",
       "       [ 8.29553454, -0.74963515],\n",
       "       [ 8.55205916,  0.49645642],\n",
       "       [-5.96359139,  7.72927228],\n",
       "       [ 9.31595072, -0.67337805],\n",
       "       [ 9.31102223, -1.22362052],\n",
       "       [ 8.97382371, -1.69641468],\n",
       "       [-7.09412782, 10.83932461],\n",
       "       [ 9.33018383, -2.50542805],\n",
       "       [ 8.94323632, -0.40898249],\n",
       "       [-5.43279479,  9.28255652],\n",
       "       [10.2023039 , -1.33533362],\n",
       "       [ 9.27284482, -2.16914157],\n",
       "       [ 9.04328235, -1.63206874],\n",
       "       [-7.01749915,  8.26760151],\n",
       "       [ 9.44372981,  0.06814484],\n",
       "       [ 9.36308023,  0.88473663],\n",
       "       [-7.33221571,  8.91026281],\n",
       "       [ 9.27466919, -2.28091884],\n",
       "       [ 9.3254679 , -2.46765245],\n",
       "       [ 9.72044005, -3.08127035],\n",
       "       [-7.29414526,  8.99701834],\n",
       "       [ 7.24841969, -0.68688426],\n",
       "       [ 8.08298204, -1.7229242 ]])"
      ]
     },
     "execution_count": 132,
     "metadata": {},
     "output_type": "execute_result"
    }
   ],
   "source": [
    "giris   \n",
    "#Girişler özellik-2 ve özellik-4 alacaktır."
   ]
  },
  {
   "cell_type": "code",
   "execution_count": 143,
   "id": "9ebf720d",
   "metadata": {},
   "outputs": [
    {
     "data": {
      "image/png": "[encoded data removed]",
      "text/plain": [
       "<Figure size 432x288 with 1 Axes>"
      ]
     },
     "metadata": {
      "needs_background": "light"
     },
     "output_type": "display_data"
    }
   ],
   "source": [
    "plt.title('2D görünüm', fontsize=16)\n",
    "\n",
    "plt.scatter(giris[:20, 0], giris[:20, 1], color='black', marker='o', label='Sonu 10 ile biten numaralar')\n",
    "plt.scatter(giris[20:40, 0], giris[20:40, -0], color='green', marker='x', label='Sonu 30 ile biten numaralar')\n",
    "plt.xlabel('x length')\n",
    "plt.ylabel('y length')\n",
    "plt.legend(loc='upper left')\n",
    "\n",
    "plt.show()"
   ]
  },
  {
   "cell_type": "code",
   "execution_count": 157,
   "id": "27a903f9",
   "metadata": {},
   "outputs": [],
   "source": [
    "class Perceptron(object): \n",
    "    def __init__(self, ogrenme_orani=0.1, iter_sayisi=10):\n",
    "        self.ogrenme_orani = ogrenme_orani\n",
    "        self.iter_sayisi = iter_sayisi\n",
    "\n",
    "    def ogren(self, X, y):\n",
    "        \n",
    "        self.w = np.zeros(1 + X.shape[1])\n",
    "        #self.w = np.random.rand((1 + X.shape[1])) \n",
    "        self.hatalar = []\n",
    "        for _ in range(self.iter_sayisi):\n",
    "            hata = 0\n",
    "            for xi, hedef in zip(X, y):\n",
    "                degisim = self.ogrenme_orani * (hedef - self.tahmin(xi))\n",
    "                self.w[1:] += degisim * xi\n",
    "                self.w[0] += degisim\n",
    "                hata += int(degisim != 0.0)\n",
    "            self.hatalar.append(hata)\n",
    "        return self\n",
    "\n",
    "    def net_input(self, X):\n",
    "        return np.dot(X, self.w[1:]) + self.w[0]\n",
    "\n",
    "    def tahmin(self, x):\n",
    "        return np.where(self.net_input(x) >0.0, 1, -1)"
   ]
  },
  {
   "cell_type": "code",
   "execution_count": 158,
   "id": "3c017bcf",
   "metadata": {},
   "outputs": [],
   "source": [
    "siniflandirici = Perceptron(ogrenme_orani=0.1, iter_sayisi=10)"
   ]
  },
  {
   "cell_type": "code",
   "execution_count": 159,
   "id": "6f3dcf75",
   "metadata": {},
   "outputs": [
    {
     "data": {
      "text/plain": [
       "<__main__.Perceptron at 0x26225e1cc40>"
      ]
     },
     "execution_count": 159,
     "metadata": {},
     "output_type": "execute_result"
    }
   ],
   "source": [
    "siniflandirici.ogren(giris, cikis1)"
   ]
  },
  {
   "cell_type": "code",
   "execution_count": 160,
   "id": "f7f84c46",
   "metadata": {},
   "outputs": [
    {
     "data": {
      "text/plain": [
       "array([-1.2       ,  1.59738425,  1.80715881])"
      ]
     },
     "execution_count": 160,
     "metadata": {},
     "output_type": "execute_result"
    }
   ],
   "source": [
    "siniflandirici.w"
   ]
  },
  {
   "cell_type": "code",
   "execution_count": 161,
   "id": "5327756c",
   "metadata": {},
   "outputs": [
    {
     "data": {
      "text/plain": [
       "[5, 13, 7, 12, 9, 12, 9, 14, 14, 13]"
      ]
     },
     "execution_count": 161,
     "metadata": {},
     "output_type": "execute_result"
    }
   ],
   "source": [
    "siniflandirici.hatalar"
   ]
  },
  {
   "cell_type": "code",
   "execution_count": 162,
   "id": "d88cbfa7",
   "metadata": {},
   "outputs": [
    {
     "data": {
      "image/png": "[encoded data removed]",
      "text/plain": [
       "<Figure size 432x288 with 1 Axes>"
      ]
     },
     "metadata": {
      "needs_background": "light"
     },
     "output_type": "display_data"
    }
   ],
   "source": [
    "plt.plot(range(1, len(siniflandirici.hatalar) + 1), siniflandirici.hatalar)\n",
    "plt.xlabel('Deneme')\n",
    "plt.ylabel('Hatalı tahmin sayısı')\n",
    "plt.show()\n",
    "\n",
    "\n",
    "#görüldüğü gibi hata 0 ra inmiyor nedeni ise girişe verilen karmaşık değerlerden nasıl tahmin bir değer çıkacak belli değil"
   ]
  },
  {
   "cell_type": "code",
   "execution_count": 353,
   "id": "9c3948c0",
   "metadata": {},
   "outputs": [
    {
     "data": {
      "text/html": [
       "<div>\n",
       "<style scoped>\n",
       "    .dataframe tbody tr th:only-of-type {\n",
       "        vertical-align: middle;\n",
       "    }\n",
       "\n",
       "    .dataframe tbody tr th {\n",
       "        vertical-align: top;\n",
       "    }\n",
       "\n",
       "    .dataframe thead th {\n",
       "        text-align: right;\n",
       "    }\n",
       "</style>\n",
       "<table border=\"1\" class=\"dataframe\">\n",
       "  <thead>\n",
       "    <tr style=\"text-align: right;\">\n",
       "      <th></th>\n",
       "      <th>0</th>\n",
       "      <th>1</th>\n",
       "      <th>2</th>\n",
       "      <th>3</th>\n",
       "      <th>Numara</th>\n",
       "    </tr>\n",
       "  </thead>\n",
       "  <tbody>\n",
       "    <tr>\n",
       "      <th>0</th>\n",
       "      <td>4.9</td>\n",
       "      <td>3.0</td>\n",
       "      <td>1.4</td>\n",
       "      <td>0.2</td>\n",
       "      <td>10</td>\n",
       "    </tr>\n",
       "    <tr>\n",
       "      <th>1</th>\n",
       "      <td>4.7</td>\n",
       "      <td>3.2</td>\n",
       "      <td>1.3</td>\n",
       "      <td>0.2</td>\n",
       "      <td>10</td>\n",
       "    </tr>\n",
       "    <tr>\n",
       "      <th>2</th>\n",
       "      <td>4.6</td>\n",
       "      <td>3.1</td>\n",
       "      <td>1.5</td>\n",
       "      <td>0.2</td>\n",
       "      <td>10</td>\n",
       "    </tr>\n",
       "    <tr>\n",
       "      <th>3</th>\n",
       "      <td>5.0</td>\n",
       "      <td>3.6</td>\n",
       "      <td>1.4</td>\n",
       "      <td>0.2</td>\n",
       "      <td>10</td>\n",
       "    </tr>\n",
       "    <tr>\n",
       "      <th>4</th>\n",
       "      <td>5.4</td>\n",
       "      <td>3.9</td>\n",
       "      <td>1.7</td>\n",
       "      <td>0.4</td>\n",
       "      <td>10</td>\n",
       "    </tr>\n",
       "    <tr>\n",
       "      <th>...</th>\n",
       "      <td>...</td>\n",
       "      <td>...</td>\n",
       "      <td>...</td>\n",
       "      <td>...</td>\n",
       "      <td>...</td>\n",
       "    </tr>\n",
       "    <tr>\n",
       "      <th>144</th>\n",
       "      <td>6.7</td>\n",
       "      <td>3.0</td>\n",
       "      <td>5.2</td>\n",
       "      <td>2.3</td>\n",
       "      <td>Iris-virginica</td>\n",
       "    </tr>\n",
       "    <tr>\n",
       "      <th>145</th>\n",
       "      <td>6.3</td>\n",
       "      <td>2.5</td>\n",
       "      <td>5.0</td>\n",
       "      <td>1.9</td>\n",
       "      <td>Iris-virginica</td>\n",
       "    </tr>\n",
       "    <tr>\n",
       "      <th>146</th>\n",
       "      <td>6.5</td>\n",
       "      <td>3.0</td>\n",
       "      <td>5.2</td>\n",
       "      <td>2.0</td>\n",
       "      <td>Iris-virginica</td>\n",
       "    </tr>\n",
       "    <tr>\n",
       "      <th>147</th>\n",
       "      <td>6.2</td>\n",
       "      <td>3.4</td>\n",
       "      <td>5.4</td>\n",
       "      <td>2.3</td>\n",
       "      <td>Iris-virginica</td>\n",
       "    </tr>\n",
       "    <tr>\n",
       "      <th>148</th>\n",
       "      <td>5.9</td>\n",
       "      <td>3.0</td>\n",
       "      <td>5.1</td>\n",
       "      <td>1.8</td>\n",
       "      <td>Iris-virginica</td>\n",
       "    </tr>\n",
       "  </tbody>\n",
       "</table>\n",
       "<p>149 rows × 5 columns</p>\n",
       "</div>"
      ],
      "text/plain": [
       "       0    1    2    3          Numara\n",
       "0    4.9  3.0  1.4  0.2              10\n",
       "1    4.7  3.2  1.3  0.2              10\n",
       "2    4.6  3.1  1.5  0.2              10\n",
       "3    5.0  3.6  1.4  0.2              10\n",
       "4    5.4  3.9  1.7  0.4              10\n",
       "..   ...  ...  ...  ...             ...\n",
       "144  6.7  3.0  5.2  2.3  Iris-virginica\n",
       "145  6.3  2.5  5.0  1.9  Iris-virginica\n",
       "146  6.5  3.0  5.2  2.0  Iris-virginica\n",
       "147  6.2  3.4  5.4  2.3  Iris-virginica\n",
       "148  5.9  3.0  5.1  1.8  Iris-virginica\n",
       "\n",
       "[149 rows x 5 columns]"
      ]
     },
     "execution_count": 353,
     "metadata": {},
     "output_type": "execute_result"
    }
   ],
   "source": [
    "df2 = pd.read_csv(\"C:\\\\Users\\\\Devrim\\\\Desktop\\\\baska.csv\")\n",
    "df2"
   ]
  },
  {
   "cell_type": "code",
   "execution_count": 366,
   "id": "80aeb4d9",
   "metadata": {},
   "outputs": [],
   "source": [
    "cikis3 = df2.iloc[0:100, 4].values\n",
    "cikis3 = np.where(cikis3== '10', -1, 1)\n",
    "giris1 = df2.iloc[0:40, [0, 2]].values"
   ]
  },
  {
   "cell_type": "code",
   "execution_count": null,
   "id": "392b99aa",
   "metadata": {},
   "outputs": [],
   "source": []
  },
  {
   "cell_type": "code",
   "execution_count": 367,
   "id": "62e50d77",
   "metadata": {},
   "outputs": [
    {
     "data": {
      "text/plain": [
       "array([[4.9, 1.4],\n",
       "       [4.7, 1.3],\n",
       "       [4.6, 1.5],\n",
       "       [5. , 1.4],\n",
       "       [5.4, 1.7],\n",
       "       [4.6, 1.4],\n",
       "       [5. , 1.5],\n",
       "       [4.4, 1.4],\n",
       "       [4.9, 1.5],\n",
       "       [5.4, 1.5],\n",
       "       [4.8, 1.6],\n",
       "       [4.8, 1.4],\n",
       "       [4.3, 1.1],\n",
       "       [5.8, 1.2],\n",
       "       [5.7, 1.5],\n",
       "       [5.4, 1.3],\n",
       "       [5.1, 1.4],\n",
       "       [5.7, 1.7],\n",
       "       [5.1, 1.5],\n",
       "       [5.4, 1.7],\n",
       "       [5.1, 1.5],\n",
       "       [4.6, 1. ],\n",
       "       [5.1, 1.7],\n",
       "       [4.8, 1.9],\n",
       "       [5. , 1.6],\n",
       "       [5. , 1.6],\n",
       "       [5.2, 1.5],\n",
       "       [5.2, 1.4],\n",
       "       [4.7, 1.6],\n",
       "       [4.8, 1.6],\n",
       "       [5.4, 1.5],\n",
       "       [5.2, 1.5],\n",
       "       [5.5, 1.4],\n",
       "       [4.9, 1.5],\n",
       "       [5. , 1.2],\n",
       "       [5.5, 1.3],\n",
       "       [4.9, 1.5],\n",
       "       [4.4, 1.3],\n",
       "       [5.1, 1.5],\n",
       "       [5. , 1.3]])"
      ]
     },
     "execution_count": 367,
     "metadata": {},
     "output_type": "execute_result"
    }
   ],
   "source": [
    "giris1"
   ]
  },
  {
   "cell_type": "code",
   "execution_count": 448,
   "id": "b2474a1b",
   "metadata": {},
   "outputs": [
    {
     "data": {
      "image/png": "[encoded data removed]",
      "text/plain": [
       "<Figure size 432x288 with 1 Axes>"
      ]
     },
     "metadata": {
      "needs_background": "light"
     },
     "output_type": "display_data"
    }
   ],
   "source": [
    "plt.title('2D görünüm', fontsize=16)\n",
    "\n",
    "plt.scatter(giris1[:20, 1], giris1[:20, 0], color='blue', marker='o', label='Sonu 10 ile biten numaralar')\n",
    "plt.scatter(giris1[20:40, 0], giris1[20:40, -1], color='red', marker='1', label='sonu 30 ile biten numaralar')\n",
    "plt.xlabel('x length')\n",
    "plt.ylabel('y length')\n",
    "plt.legend(loc='upper left')\n",
    "\n",
    "plt.show()\n",
    "#Sınıflandırmaları yaptık "
   ]
  },
  {
   "cell_type": "code",
   "execution_count": 455,
   "id": "e965899d",
   "metadata": {},
   "outputs": [],
   "source": [
    "class Perceptron(object): \n",
    "    def __init__(self, ogrenme_orani=0.2, iter_sayisi=50):\n",
    "        self.ogrenme_orani = ogrenme_orani\n",
    "        self.iter_sayisi = iter_sayisi\n",
    "\n",
    "    def ogren(self, X, y):\n",
    "        \n",
    "        self.w = np.zeros(1 + X.shape[1])\n",
    "        #self.w = np.random.rand((1 + X.shape[1])) \n",
    "        self.hatalar = []\n",
    "        for _ in range(self.iter_sayisi):\n",
    "            hata = 0\n",
    "            for xi, hedef in zip(X, y):\n",
    "                degisim = self.ogrenme_orani * (hedef - self.tahmin(xi))\n",
    "                self.w[1:] += degisim * xi\n",
    "                self.w[0] += degisim\n",
    "                hata += int(degisim != 0.0)\n",
    "            self.hatalar.append(hata)\n",
    "        return self\n",
    "\n",
    "    def net_input(self, X):\n",
    "        return np.dot(X, self.w[1:]) + self.w[0]\n",
    "\n",
    "    def tahmin(self, x):\n",
    "        return np.where(self.net_input(x) >=0.0, 1, -1)"
   ]
  },
  {
   "cell_type": "code",
   "execution_count": 456,
   "id": "72d15f6c",
   "metadata": {},
   "outputs": [],
   "source": [
    "siniflandirici2 = Perceptron(ogrenme_orani=0.2, iter_sayisi=50)"
   ]
  },
  {
   "cell_type": "code",
   "execution_count": 457,
   "id": "d65394ed",
   "metadata": {},
   "outputs": [
    {
     "data": {
      "text/plain": [
       "<__main__.Perceptron at 0x26225e69d60>"
      ]
     },
     "execution_count": 457,
     "metadata": {},
     "output_type": "execute_result"
    }
   ],
   "source": [
    "siniflandirici2.ogren(giris1, cikis3)"
   ]
  },
  {
   "cell_type": "code",
   "execution_count": 458,
   "id": "75fe4c36",
   "metadata": {},
   "outputs": [
    {
     "data": {
      "text/plain": [
       "array([-0.8 ,  0.32,  0.8 ])"
      ]
     },
     "execution_count": 458,
     "metadata": {},
     "output_type": "execute_result"
    }
   ],
   "source": [
    "siniflandirici2.w"
   ]
  },
  {
   "cell_type": "code",
   "execution_count": 459,
   "id": "fd6eb4af",
   "metadata": {},
   "outputs": [
    {
     "data": {
      "text/plain": [
       "[2,\n",
       " 2,\n",
       " 2,\n",
       " 2,\n",
       " 2,\n",
       " 2,\n",
       " 2,\n",
       " 2,\n",
       " 2,\n",
       " 2,\n",
       " 2,\n",
       " 2,\n",
       " 2,\n",
       " 2,\n",
       " 2,\n",
       " 2,\n",
       " 2,\n",
       " 2,\n",
       " 2,\n",
       " 2,\n",
       " 2,\n",
       " 2,\n",
       " 2,\n",
       " 2,\n",
       " 3,\n",
       " 2,\n",
       " 2,\n",
       " 2,\n",
       " 2,\n",
       " 2,\n",
       " 2,\n",
       " 2,\n",
       " 2,\n",
       " 2,\n",
       " 2,\n",
       " 2,\n",
       " 2,\n",
       " 2,\n",
       " 2,\n",
       " 2,\n",
       " 2,\n",
       " 2,\n",
       " 2,\n",
       " 2,\n",
       " 2,\n",
       " 2,\n",
       " 2,\n",
       " 3,\n",
       " 2,\n",
       " 2]"
      ]
     },
     "execution_count": 459,
     "metadata": {},
     "output_type": "execute_result"
    }
   ],
   "source": [
    "siniflandirici2.hatalar\n"
   ]
  },
  {
   "cell_type": "code",
   "execution_count": 460,
   "id": "e6b37547",
   "metadata": {},
   "outputs": [
    {
     "data": {
      "image/png": "[encoded data removed]",
      "text/plain": [
       "<Figure size 432x288 with 1 Axes>"
      ]
     },
     "metadata": {
      "needs_background": "light"
     },
     "output_type": "display_data"
    }
   ],
   "source": [
    "plt.plot(range(1, len(siniflandirici2.hatalar) + 1), siniflandirici2.hatalar)\n",
    "plt.xlabel('Deneme')\n",
    "plt.ylabel('Hatalı tahmin sayısı')\n",
    "plt.show()\n",
    "\n",
    "#2 hatanın altına inmiyor "
   ]
  },
  {
   "cell_type": "code",
   "execution_count": null,
   "id": "0b0162c4",
   "metadata": {},
   "outputs": [],
   "source": []
  },
  {
   "cell_type": "code",
   "execution_count": null,
   "id": "2bf0d836",
   "metadata": {},
   "outputs": [],
   "source": []
  }
 ],
 "metadata": {
  "kernelspec": {
   "display_name": "Python 3",
   "language": "python",
   "name": "python3"
  },
  "language_info": {
   "codemirror_mode": {
    "name": "ipython",
    "version": 3
   },
   "file_extension": ".py",
   "mimetype": "text/x-python",
   "name": "python",
   "nbconvert_exporter": "python",
   "pygments_lexer": "ipython3",
   "version": "3.8.8"
  }
 },
 "nbformat": 4,
 "nbformat_minor": 5
}
